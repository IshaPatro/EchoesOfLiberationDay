{
 "cells": [
  {
   "cell_type": "code",
   "execution_count": 22,
   "metadata": {},
   "outputs": [
    {
     "name": "stdout",
     "output_type": "stream",
     "text": [
      "Collecting newspaper\n",
      "  Using cached newspaper-0.1.0.7.tar.gz (176 kB)\n",
      "  Preparing metadata (setup.py) ... \u001b[?25lerror\n",
      "  \u001b[1;31merror\u001b[0m: \u001b[1msubprocess-exited-with-error\u001b[0m\n",
      "  \n",
      "  \u001b[31m×\u001b[0m \u001b[32mpython setup.py egg_info\u001b[0m did not run successfully.\n",
      "  \u001b[31m│\u001b[0m exit code: \u001b[1;36m1\u001b[0m\n",
      "  \u001b[31m╰─>\u001b[0m \u001b[31m[1 lines of output]\u001b[0m\n",
      "  \u001b[31m   \u001b[0m \u001b[31;1mWARNING! You are attempting to install newspaper's python2 repository on python3. PLEASE RUN `$ pip3 install newspaper3k` for python3 or `$ pip install newspaper` for python2\u001b[0m\n",
      "  \u001b[31m   \u001b[0m \u001b[31m[end of output]\u001b[0m\n",
      "  \n",
      "  \u001b[1;35mnote\u001b[0m: This error originates from a subprocess, and is likely not a problem with pip.\n",
      "\u001b[?25h\u001b[1;31merror\u001b[0m: \u001b[1mmetadata-generation-failed\u001b[0m\n",
      "\n",
      "\u001b[31m×\u001b[0m Encountered error while generating package metadata.\n",
      "\u001b[31m╰─>\u001b[0m See above for output.\n",
      "\n",
      "\u001b[1;35mnote\u001b[0m: This is an issue with the package mentioned above, not pip.\n",
      "\u001b[1;36mhint\u001b[0m: See above for details.\n",
      "Note: you may need to restart the kernel to use updated packages.\n"
     ]
    }
   ],
   "source": [
    "%pip install newspaper requests pandas beautifulsoup4"
   ]
  },
  {
   "cell_type": "code",
   "execution_count": 23,
   "metadata": {},
   "outputs": [],
   "source": [
    "import requests\n",
    "import pandas as pd\n",
    "from datetime import datetime\n",
    "import time\n",
    "from bs4 import BeautifulSoup"
   ]
  },
  {
   "cell_type": "code",
   "execution_count": 24,
   "metadata": {},
   "outputs": [],
   "source": [
    "COUNTRIES = [\n",
    "    'United States', 'Germany', 'United Kingdom', 'France', 'Japan',\n",
    "    'Canada', 'Australia', 'Brazil', 'India', 'South Korea', 'China',\n",
    "    'Hong Kong', 'Taiwan', 'Netherlands', 'Switzerland', 'Italy',\n",
    "    'Spain', 'Sweden', 'Belgium', 'Norway', 'Denmark', 'Finland',\n",
    "    'Portugal', 'Greece', 'Poland', 'Turkey','South Africa', 'Nigeria',\n",
    "    'Egypt', 'Kenya', 'Russia', 'Myanmar'\n",
    "]"
   ]
  },
  {
   "cell_type": "code",
   "execution_count": 25,
   "metadata": {},
   "outputs": [],
   "source": [
    "def fetch_google_news(country, start_date, end_date):\n",
    "    base_url = \"https://news.google.com/rss/search\"\n",
    "    query = f\"q={country}+after:{start_date}+before:{end_date}\"\n",
    "    url = f\"{base_url}?{query}&hl=en-US&gl=US&ceid=US:en\"\n",
    "    \n",
    "    try:\n",
    "        response = requests.get(url, timeout=10)\n",
    "        response.raise_for_status()\n",
    "        return response.text\n",
    "    except Exception as e:\n",
    "        print(f\"Error fetching Google News for {country}: {e}\")\n",
    "        return None\n"
   ]
  },
  {
   "cell_type": "code",
   "execution_count": null,
   "metadata": {},
   "outputs": [],
   "source": [
    "def extract_article_text(url):\n",
    "    try:\n",
    "        headers = {\n",
    "            'User-Agent': 'Mozilla/5.0 (Windows NT 10.0; Win64; x64) AppleWebKit/537.36 (KHTML, like Gecko) Chrome/91.0.4472.124 Safari/537.36'\n",
    "        }\n",
    "        response = requests.get(url, headers=headers)\n",
    "        response.raise_for_status()\n",
    "        soup = BeautifulSoup(response.content, 'html.parser')\n",
    "\n",
    "        for tag in soup([\"script\", \"style\", \"noscript\"]):\n",
    "            tag.decompose()\n",
    "\n",
    "        article = soup.find('article')\n",
    "        if not article:\n",
    "            possible_blocks = soup.find_all(['div', 'section'], class_=lambda c: c and 'content' in c.lower())\n",
    "            article = max(possible_blocks, key=lambda tag: len(tag.get_text(strip=True)), default=soup.body)\n",
    "\n",
    "        text = article.get_text(separator='\\n', strip=True)\n",
    "        return text\n",
    "    except:\n",
    "        return 'Content not available'\n"
   ]
  },
  {
   "cell_type": "code",
   "execution_count": 27,
   "metadata": {},
   "outputs": [],
   "source": [
    "def parse_news_feed(feed_xml, country):\n",
    "    articles = []\n",
    "    try:\n",
    "        soup = BeautifulSoup(feed_xml, 'xml')\n",
    "        for item in soup.find_all('item')[:10]:  # Limit to 10 articles per country\n",
    "            try:\n",
    "                article_url = item.link.text.split('&url=')[-1] if '&url=' in item.link.text else item.link.text\n",
    "                articles.append({\n",
    "                    'country': country,\n",
    "                    'date': item.pubDate.text[:10] if item.pubDate else '',\n",
    "                    'source': item.source.text if item.source else '',\n",
    "                    'title': item.title.text,\n",
    "                    'description': extract_article_text(article_url),\n",
    "                    'url': article_url\n",
    "                })\n",
    "            except Exception as e:\n",
    "                print(f\"Error processing article for {country}: {e}\")\n",
    "                continue\n",
    "    except Exception as e:\n",
    "        print(f\"Error parsing feed for {country}: {e}\")\n",
    "    return articles\n"
   ]
  },
  {
   "cell_type": "code",
   "execution_count": null,
   "metadata": {},
   "outputs": [
    {
     "name": "stdout",
     "output_type": "stream",
     "text": [
      "Fetching news for United States...\n",
      "Fetching news for Germany...\n"
     ]
    }
   ],
   "source": [
    "\n",
    "start_date = datetime(2025, 4, 1).strftime('%Y-%m-%d')\n",
    "end_date = datetime(2025, 4, 7).strftime('%Y-%m-%d')\n",
    "\n",
    "all_articles = []\n",
    "\n",
    "for country in COUNTRIES:\n",
    "    print(f\"Fetching news for {country}...\")\n",
    "    feed = fetch_google_news(country, start_date, end_date)\n",
    "    if feed:\n",
    "        articles = parse_news_feed(feed, country)\n",
    "        all_articles.extend(articles)\n",
    "    time.sleep(3)\n",
    "\n",
    "df = pd.DataFrame(all_articles)\n",
    "df.to_csv('global_finance_news.csv', index=False)\n",
    "print(f\"Saved {len(all_articles)} articles to april_2025_news.csv\")"
   ]
  },
  {
   "cell_type": "code",
   "execution_count": null,
   "metadata": {},
   "outputs": [],
   "source": []
  }
 ],
 "metadata": {
  "kernelspec": {
   "display_name": "Python 3",
   "language": "python",
   "name": "python3"
  },
  "language_info": {
   "codemirror_mode": {
    "name": "ipython",
    "version": 3
   },
   "file_extension": ".py",
   "mimetype": "text/x-python",
   "name": "python",
   "nbconvert_exporter": "python",
   "pygments_lexer": "ipython3",
   "version": "3.10.10"
  }
 },
 "nbformat": 4,
 "nbformat_minor": 2
}
